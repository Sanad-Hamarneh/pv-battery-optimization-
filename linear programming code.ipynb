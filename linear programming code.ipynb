{
  "nbformat": 4,
  "nbformat_minor": 0,
  "metadata": {
    "colab": {
      "provenance": []
    },
    "kernelspec": {
      "name": "python3",
      "display_name": "Python 3"
    },
    "language_info": {
      "name": "python"
    }
  },
  "cells": [
    {
      "cell_type": "markdown",
      "source": [
        "# **PV and Battery Sizing Problem**\n",
        "\n",
        "## Sets\n",
        "\n",
        "$\\mathcal{K} = \\{1, 2, \\dots, K\\}$: Set of time intervals.\n",
        "\n",
        "$\\mathcal{N} = \\{1, 2, \\dots, N\\}$: Set of users (optional, for community-based problem).\n",
        "\n",
        "---\n",
        "\n",
        "## Indices\n",
        "\n",
        "$k \\in \\mathcal{K}$: Time index.\n",
        "\n",
        "$i \\in \\mathcal{N}$: User index (optional, for community-based problem).\n",
        "\n",
        "---\n",
        "\n",
        "## Data\n",
        "### 1. Energy Parameters:\n",
        "$Y_k, \\forall k \\in \\mathcal{K}$: Solar energy generation per $m^2$ of PV panel at time $k$ (kWh/m²).\n",
        "\n",
        "$X_k, \\forall k \\in \\mathcal{K}$: Energy demand at time $k$ (kWh).\n",
        "\n",
        "### 2. Battery Parameters:\n",
        "$\\gamma$: Energy retention rate of the battery ( $\\gamma \\in (0, 1]$).\n",
        "\n",
        "$R$: Maximum charge/discharge rate as a fraction of battery capacity ($R \\in (0, 1]$).\n",
        "\n",
        "$\\bar{C}$: Maximum capacity of the battery (kWh).\n",
        "\n",
        "$\\alpha$: Minimum state-of-charge (SoC) as a fraction of battery capacity ($\\alpha \\in [0, 1]$).\n",
        "\n",
        "$C_0$: Initial state-of-charge (SoC) of the battery (kWh).\n",
        "\n",
        "### 3. Physical Limits:\n",
        "$a_{\\text{max}}$: Maximum allowable PV panel area (m²).\n",
        "\n",
        "\n",
        "\n",
        "### 4. Economic Parameters:\n",
        "$5_{PV}$: Cost of installing 1 $m^2$ of PV panel ($\\$/m^2$).\n",
        "\n",
        "$5_B$: Cost of installing 1 kWh of battery capacity ($\\$/kWh$).\n",
        "\n",
        "$5_R$: Cost (or profit) per unit of reverse power flow ($\\$/kWh$).\n",
        "\n",
        "$5_G$: Cost per unit of energy supplied by fuel cells ($\\$/kWh$).\n",
        "\n",
        "---\n",
        "\n",
        "## Decision Variables\n",
        "### 1. PV Panel Area:\n",
        "$a$: Area of PV panels installed (m²).\n",
        "\n",
        "### 2. Battery State of Charge:\n",
        "$C_k, \\forall k \\in \\mathcal{K}$: State-of-charge (SoC) of the battery at time $k$ (kWh).\n",
        "\n",
        "$\\phi_k^+, \\forall k \\in \\mathcal{K}$: Reverse power flow (excess energy injected into the grid) at time $k$ (kWh).\n",
        "\n",
        "$\\phi_k^-, \\forall k \\in \\mathcal{K}$: Energy supplied by fuel cells at time $k$ (kWh).\n",
        "\n",
        "### 3. Battery Capacity:\n",
        "$\\bar{C}$: Total battery capacity (kWh).\n",
        "\n",
        "---\n",
        "\n",
        "# **PV and Battery Sizing Problem**\n",
        "\n",
        "## Linear Program\n",
        "\n",
        "$$\n",
        "\\underset{\\{a, \\bar{C}, C_k, \\phi_k^+, \\phi_k^-, \\forall k \\in \\mathcal{K}\\}}{\\text{minimize}} \\quad\n",
        "5_{PV} a + 5_B \\bar{C} + \\sum_{k \\in \\mathcal{K}} \\left( 5_R \\phi_k^+ + 5_G \\phi_k^- \\right)\n",
        "$$\n",
        "\n",
        "### Subject to:\n",
        "\n",
        "1. **Battery Dynamics**:\n",
        "   $$\n",
        "   C_k + \\phi_k^+ - \\phi_k^- = \\gamma C_{k-1} + a Y_{k-1} - X_{k-1}, \\quad \\forall k \\in \\mathcal{K}\n",
        "   $$\n",
        "\n",
        "2. **Battery Capacity Limits**:\n",
        "   $$\n",
        "   \\alpha \\bar{C} \\leq C_k \\leq \\bar{C}, \\quad \\forall k \\in \\mathcal{K}\n",
        "   $$\n",
        "\n",
        "3. **Charging/Discharging Rate**:\n",
        "   $$\n",
        "   |C_k - C_{k-1}| \\leq R \\bar{C}, \\quad \\forall k \\in \\mathcal{K}\n",
        "   $$\n",
        "\n",
        "4. **Non-Negativity**:\n",
        "   $$\n",
        "   \\phi_k^+ \\geq 0, \\quad \\phi_k^- \\geq 0, \\quad \\forall k \\in \\mathcal{K}\n",
        "   $$\n",
        "\n",
        "5. **PV Panel Area Limit**:\n",
        "   $$\n",
        "   0 \\leq a \\leq a_{\\text{max}}\n",
        "   $$\n",
        "\n",
        "6. **Initial Battery State**:\n",
        "   $$\n",
        "   C_0 = \\hat{C}, \\quad \\hat{C} \\in [\\alpha \\bar{C}, \\bar{C}]\n",
        "   $$\n",
        "\n",
        "7. **Net-Zero Energy Constraint** (Optional):\n",
        "   $$\n",
        "   a \\sum_{k \\in \\mathcal{K}} Y_k \\geq \\sum_{k \\in \\mathcal{K}} X_k\n",
        "   $$\n",
        "\n",
        "---\n",
        "\n",
        "\n"
      ],
      "metadata": {
        "id": "GFCoLjAzTKLJ"
      }
    },
    {
      "cell_type": "code",
      "source": [],
      "metadata": {
        "id": "wAQ3lkcHMhJS"
      },
      "execution_count": null,
      "outputs": []
    },
    {
      "cell_type": "code",
      "source": [
        "!pip install cplex\n",
        "!pip install docplex"
      ],
      "metadata": {
        "colab": {
          "base_uri": "https://localhost:8080/"
        },
        "id": "LlXxx6LJTPjI",
        "outputId": "b04d6481-834f-460e-84c0-48b0accfe57f"
      },
      "execution_count": null,
      "outputs": [
        {
          "output_type": "stream",
          "name": "stdout",
          "text": [
            "Collecting cplex\n",
            "  Downloading cplex-22.1.2.0-cp310-cp310-manylinux2014_x86_64.whl.metadata (56 kB)\n",
            "\u001b[?25l     \u001b[90m━━━━━━━━━━━━━━━━━━━━━━━━━━━━━━━━━━━━━━━━\u001b[0m \u001b[32m0.0/57.0 kB\u001b[0m \u001b[31m?\u001b[0m eta \u001b[36m-:--:--\u001b[0m\r\u001b[2K     \u001b[90m━━━━━━━━━━━━━━━━━━━━━━━━━━━━━━━━━━━━━━━━\u001b[0m \u001b[32m57.0/57.0 kB\u001b[0m \u001b[31m5.0 MB/s\u001b[0m eta \u001b[36m0:00:00\u001b[0m\n",
            "\u001b[?25hDownloading cplex-22.1.2.0-cp310-cp310-manylinux2014_x86_64.whl (44.3 MB)\n",
            "\u001b[2K   \u001b[90m━━━━━━━━━━━━━━━━━━━━━━━━━━━━━━━━━━━━━━━━\u001b[0m \u001b[32m44.3/44.3 MB\u001b[0m \u001b[31m18.6 MB/s\u001b[0m eta \u001b[36m0:00:00\u001b[0m\n",
            "\u001b[?25hInstalling collected packages: cplex\n",
            "Successfully installed cplex-22.1.2.0\n",
            "Collecting docplex\n",
            "  Downloading docplex-2.29.241.tar.gz (645 kB)\n",
            "\u001b[2K     \u001b[90m━━━━━━━━━━━━━━━━━━━━━━━━━━━━━━━━━━━━━━━━\u001b[0m \u001b[32m645.5/645.5 kB\u001b[0m \u001b[31m17.3 MB/s\u001b[0m eta \u001b[36m0:00:00\u001b[0m\n",
            "\u001b[?25h  Installing build dependencies ... \u001b[?25l\u001b[?25hdone\n",
            "  Getting requirements to build wheel ... \u001b[?25l\u001b[?25hdone\n",
            "  Installing backend dependencies ... \u001b[?25l\u001b[?25hdone\n",
            "  Preparing metadata (pyproject.toml) ... \u001b[?25l\u001b[?25hdone\n",
            "Requirement already satisfied: six in /usr/local/lib/python3.10/dist-packages (from docplex) (1.17.0)\n",
            "Building wheels for collected packages: docplex\n",
            "  Building wheel for docplex (pyproject.toml) ... \u001b[?25l\u001b[?25hdone\n",
            "  Created wheel for docplex: filename=docplex-2.29.241-py3-none-any.whl size=685423 sha256=f5002b23f16c56dcdc0602b1d9581a92a34b427a383060132f454a91c218c9bc\n",
            "  Stored in directory: /root/.cache/pip/wheels/2b/15/6e/eba2382ab6bc3f35194a62d3b007916ececf6f07139cac6795\n",
            "Successfully built docplex\n",
            "Installing collected packages: docplex\n",
            "Successfully installed docplex-2.29.241\n"
          ]
        }
      ]
    },
    {
      "cell_type": "code",
      "source": [],
      "metadata": {
        "id": "aLCBkd79t5Xi"
      },
      "execution_count": null,
      "outputs": []
    },
    {
      "cell_type": "code",
      "source": [
        "from docplex.mp.model import Model\n",
        "\n",
        "# Create a CPLEX model\n",
        "model = Model(name=\"PV_and_Battery_Sizing\")"
      ],
      "metadata": {
        "id": "MGaImO9qVvjB"
      },
      "execution_count": null,
      "outputs": []
    },
    {
      "cell_type": "markdown",
      "source": [
        " High Solar Generation, Moderate Energy Demand"
      ],
      "metadata": {
        "id": "M8KDmlId6SjV"
      }
    },
    {
      "cell_type": "code",
      "source": [
        "# Input Data\n",
        "K = 48  # Number of time intervals (e.g., 24 hours in 30-minute steps)\n",
        "# Solar energy generation (kWh/m²)\n",
        "Y = [0.0] * 10 + [1.0, 2.0, 3.0, 4.0, 5.0, 6.0, 5.5, 5.0, 4.5, 4.0, 3.5, 3.0, 2.5, 2.0, 1.5, 1.0, 0.5,3.0, 3.5, 4.0, 3.0, 2.5, 2.0, 1.5, 1.0, 0.5, 1.5,1.0] + [0.0] * 10\n",
        "\n",
        "# Energy demand (kWh)\n",
        "X = [3.0, 3.5, 4.0, 4.5, 5.0, 5.5, 6.0, 6.5, 7.0, 6.5, 6.0, 5.5] + \\\n",
        "    [5.0, 4.5, 4.0, 3.5, 4.0, 4.5, 5.0, 5.5, 6.0, 6.5, 7.0, 6.5] + \\\n",
        "    [6.0, 5.5, 5.0, 4.5, 4.0, 3.5, 4.0, 4.5, 5.0, 5.5, 6.0, 6.5] + \\\n",
        "    [7.0, 6.5, 6.0, 5.5, 5.0, 4.5, 4.0, 3.5, 3.0, 2.5, 2.0, 1.5]\n",
        "\n",
        "\n",
        "\n",
        "gamma = 0.95  # Battery retention rate\n",
        "R = 0.5  # Maximum charge/discharge rate (fraction of capacity)\n",
        "alpha = 0.2  # Minimum SoC as a fraction of battery capacity\n",
        "a_max = 200  # Maximum allowable PV panel area (m²)\n",
        "PV_cost = 1000  # Cost per m² of PV panels (¥/m²)\n",
        "Battery_cost = 500  # Cost per kWh of battery capacity (¥/kWh)\n",
        "Reverse_power_cost = 200  # Penalty for reverse power flow (¥/kWh)\n",
        "Fuel_cost = 50  # Cost of fuel cell energy (¥/kWh)\n"
      ],
      "metadata": {
        "id": "7KXTl-FOVvlg"
      },
      "execution_count": null,
      "outputs": []
    },
    {
      "cell_type": "markdown",
      "source": [
        "Low Solar Generation, High Evening Demand"
      ],
      "metadata": {
        "id": "Wzkty0B36Tv7"
      }
    },
    {
      "cell_type": "code",
      "source": [
        "K = 48  # Number of time intervals (e.g., 24 hours in 30-minute steps)\n",
        "\n",
        "# Solar energy generation (kWh/m²)\n",
        "# 0 generation at night, peaks during midday\n",
        "Y = [0.0] * 10 + [3.0, 3.5, 4.0, 3.0, 2.5, 2.0, 1.5, 1.0, 0.5, 1.0,0.5, 1.0, 2.0, 3.0, 4.0, 5.0, 6.0, 5.5, 5.0, 4.5, 4.0, 3.5, 3.0, 2.5, 2.0, 1.5, 1.0, 0.5] + [0.0] * 10\n",
        "\n",
        "# Energy demand (kWh)\n",
        "# Higher demand during morning, evening, and moderate during the day\n",
        "X = [5.0, 6.5, 4.0, 3.5, 4.0, 4.5, 5.0, 5.5, 6.0, 5.0, 4.0, 3.5] + \\\n",
        "    [3.0, 3.5, 4.0, 4.5, 5.0, 4.5, 3.0, 2.5, 2.0, 1.5, 1.0, 2.0] + \\\n",
        "    [3.5, 4.0, 8.0, 10.0, 7.0, 8.0, 7.5, 8.5, 10.5, 8.0, 9.5, 8.0] + \\\n",
        "    [7.5, 5.0, 4.5, 4.0, 3.5, 1.0, 0.5, 1.0,1.5,0.5,1.0,2.0,1.5]\n",
        "\n",
        "gamma = 0.95  # Battery retention rate\n",
        "R = 0.5  # Maximum charge/discharge rate (fraction of capacity)\n",
        "alpha = 0.2  # Minimum SoC as a fraction of battery capacity\n",
        "a_max = 200  # Maximum allowable PV panel area (m²)\n",
        "PV_cost = 1000  # Cost per m² of PV panels (¥/m²)\n",
        "Battery_cost = 500  # Cost per kWh of battery capacity (¥/kWh)\n",
        "Reverse_power_cost = 200  # Penalty for reverse power flow (¥/kWh)\n",
        "Fuel_cost = 50  # Cost of fuel cell energy (¥/kWh)\n"
      ],
      "metadata": {
        "id": "FdO-tVo76a00"
      },
      "execution_count": null,
      "outputs": []
    },
    {
      "cell_type": "markdown",
      "source": [
        " Balanced Solar Generation, Morning and Evening Peaks in Demand"
      ],
      "metadata": {
        "id": "NcVBVNeV6W56"
      }
    },
    {
      "cell_type": "code",
      "source": [
        "K = 48  # Number of time intervals (e.g., 24 hours in 30-minute steps)\n",
        "\n",
        "# Solar energy generation (kWh/m²)\n",
        "# 0 generation at night, peaks during midday\n",
        "Y = [0.0] * 10 + [3.0, 3.5, 4.0, 3.0, 2.5, 2.0, 1.5, 1.0, 0.5, 1.0,0.5, 1.0, 2.0, 3.0, 4.0, 5.0, 6.0, 5.5, 5.0, 4.5, 4.0, 3.5, 3.0, 2.5, 2.0, 1.5, 1.0, 0.5] + [0.0] * 10\n",
        "\n",
        "# Energy demand (kWh)\n",
        "# Higher demand during morning, evening, and moderate during the day\n",
        "X = [5.0, 6.5, 4.0, 3.5, 4.0, 4.5, 5.0, 5.5, 6.0, 5.0, 4.0, 3.5] + \\\n",
        "    [3.0, 3.5, 4.0, 4.5, 5.0, 4.5, 3.0, 2.5, 2.0, 1.5, 1.0, 2.0] + \\\n",
        "    [3.5, 4.0, 8.0, 10.0, 7.0, 8.0, 7.5, 8.5, 10.5, 8.0, 9.5, 8.0] + \\\n",
        "    [7.5, 5.0, 4.5, 4.0, 3.5, 1.0, 0.5, 1.0,1.5,0.5,1.0,2.0,1.5]\n",
        "\n",
        "gamma = 0.95  # Battery retention rate\n",
        "R = 0.5  # Maximum charge/discharge rate (fraction of capacity)\n",
        "alpha = 0.2  # Minimum SoC as a fraction of battery capacity\n",
        "a_max = 200  # Maximum allowable PV panel area (m²)\n",
        "PV_cost = 1000  # Cost per m² of PV panels (¥/m²)\n",
        "Battery_cost = 500  # Cost per kWh of battery capacity (¥/kWh)\n",
        "Reverse_power_cost = 200  # Penalty for reverse power flow (¥/kWh)\n",
        "Fuel_cost = 50  # Cost of fuel cell energy (¥/kWh)\n"
      ],
      "metadata": {
        "id": "z3vlKeVA2btT"
      },
      "execution_count": null,
      "outputs": []
    },
    {
      "cell_type": "code",
      "source": [
        "# Decision Variables\n",
        "a = model.continuous_var(name=\"a\", lb=0, ub=a_max)  # PV panel area (m²)\n",
        "C = model.continuous_var_list(K, name=\"C\", lb=0)  # State-of-charge (SoC) at each time (kWh)\n",
        "phi_plus = model.continuous_var_list(K, name=\"phi_plus\", lb=0)  # Reverse power flow (kWh)\n",
        "phi_minus = model.continuous_var_list(K, name=\"phi_minus\", lb=0)  # Fuel cell energy (kWh)\n",
        "C_max = model.continuous_var(name=\"C_max\", lb=0)  # Total battery capacity (kWh)\n"
      ],
      "metadata": {
        "id": "dS1-IA-jVvoI"
      },
      "execution_count": null,
      "outputs": []
    },
    {
      "cell_type": "code",
      "source": [
        "\n",
        "# Objective Function\n",
        "model.minimize(PV_cost * a + Battery_cost * C_max +\n",
        "               model.sum(Reverse_power_cost * phi_plus[k] + Fuel_cost * phi_minus[k] for k in range(K)))"
      ],
      "metadata": {
        "id": "t--_VwGtVvq4"
      },
      "execution_count": null,
      "outputs": []
    },
    {
      "cell_type": "code",
      "source": [
        "# Constraints"
      ],
      "metadata": {
        "id": "klfGgdoUVvto"
      },
      "execution_count": null,
      "outputs": []
    },
    {
      "cell_type": "code",
      "source": [
        "# Battery dynamics\n",
        "for k in range(K):\n",
        "    if k == 0:\n",
        "        model.add_constraint(C[k] + phi_plus[k] - phi_minus[k] == a * Y[k] - X[k], f\"Battery_dynamics_{k}\")\n",
        "    else:\n",
        "        model.add_constraint(C[k] + phi_plus[k] - phi_minus[k] == gamma * C[k - 1] + a * Y[k] - X[k], f\"Battery_dynamics_{k}\")"
      ],
      "metadata": {
        "id": "lsqJMpD4VvwY"
      },
      "execution_count": null,
      "outputs": []
    },
    {
      "cell_type": "code",
      "source": [
        "# Battery capacity limits\n",
        "for k in range(K):\n",
        "    model.add_constraint(C[k] >= alpha * C_max, f\"Min_SoC_{k}\")\n",
        "    model.add_constraint(C[k] <= C_max, f\"Max_SoC_{k}\")"
      ],
      "metadata": {
        "id": "01ArTDnnWDSA"
      },
      "execution_count": null,
      "outputs": []
    },
    {
      "cell_type": "code",
      "source": [
        "# Charging/discharging rate\n",
        "for k in range(1, K):\n",
        "    model.add_constraint(C[k] - C[k - 1] <= R * C_max, f\"Charging_rate_{k}\")\n",
        "    model.add_constraint(C[k - 1] - C[k] <= R * C_max, f\"Discharging_rate_{k}\")"
      ],
      "metadata": {
        "id": "9Tdm0NzgWDUZ"
      },
      "execution_count": null,
      "outputs": []
    },
    {
      "cell_type": "code",
      "source": [
        "# Non-Negativity constraints\n",
        "for k in range(K):\n",
        "    model.add_constraint(phi_plus[k] >= 0, f\"Non_Neg_phi_plus_{k}\")\n",
        "    model.add_constraint(phi_minus[k] >= 0, f\"Non_Neg_phi_minus_{k}\")"
      ],
      "metadata": {
        "id": "LKGLNcb-r5aL"
      },
      "execution_count": null,
      "outputs": []
    },
    {
      "cell_type": "code",
      "source": [
        "# PV panel area limit\n",
        "model.add_constraint(a >= 0, \"Non_Neg_a\")\n",
        "model.add_constraint(a <= a_max, \"Max_a\")"
      ],
      "metadata": {
        "colab": {
          "base_uri": "https://localhost:8080/"
        },
        "id": "7oXao6mDr68z",
        "outputId": "99c689ef-79fb-4155-d945-df198254b0fe"
      },
      "execution_count": null,
      "outputs": [
        {
          "output_type": "execute_result",
          "data": {
            "text/plain": [
              "docplex.mp.LinearConstraint[Max_a](a,LE,200)"
            ]
          },
          "metadata": {},
          "execution_count": 196
        }
      ]
    },
    {
      "cell_type": "code",
      "source": [
        "# Net-zero energy constraint (optional)\n",
        "model.add_constraint(a * sum(Y) >= sum(X), \"Net_Zero_Energy\")"
      ],
      "metadata": {
        "colab": {
          "base_uri": "https://localhost:8080/"
        },
        "id": "tO7kQ7fwWDXA",
        "outputId": "20ada4d3-ba79-4d7a-bc45-99439cf024ef"
      },
      "execution_count": null,
      "outputs": [
        {
          "output_type": "execute_result",
          "data": {
            "text/plain": [
              "docplex.mp.LinearConstraint[Net_Zero_Energy](76.500a,GE,219.0)"
            ]
          },
          "metadata": {},
          "execution_count": 197
        }
      ]
    },
    {
      "cell_type": "code",
      "source": [
        "\n",
        "solution = model.solve(log_output=True)"
      ],
      "metadata": {
        "colab": {
          "base_uri": "https://localhost:8080/"
        },
        "id": "tZYC-7lnWIgw",
        "outputId": "82ad8f67-e117-43f3-a5fb-c79ab49fad6e"
      },
      "execution_count": null,
      "outputs": [
        {
          "output_type": "stream",
          "name": "stdout",
          "text": [
            "Version identifier: 22.1.2.0 | 2024-12-10 | f4cec290b\n",
            "CPXPARAM_Read_DataCheck                          1\n",
            "Tried aggregator 1 time.\n",
            "LP Presolve eliminated 100 rows and 2 columns.\n",
            "Reduced LP has 237 rows, 144 columns, and 690 nonzeros.\n",
            "Presolve time = 0.01 sec. (0.25 ticks)\n",
            "Initializing dual steep norms . . .\n",
            "\n",
            "Iteration log . . .\n",
            "Iteration:     1   Dual objective     =          3112.745098\n",
            "Iteration:    62   Dual objective     =         25295.687745\n"
          ]
        }
      ]
    },
    {
      "cell_type": "code",
      "source": [],
      "metadata": {
        "id": "7-NqKa30WIjQ"
      },
      "execution_count": null,
      "outputs": []
    },
    {
      "cell_type": "code",
      "source": [
        "\n",
        "if solution:\n",
        "    print(\"Objective Value:\", solution.objective_value)\n",
        "    print(\"PV Panel Area (m²):\", solution[a])\n",
        "    print(\"Battery Capacity (kWh):\", solution[C_max])\n",
        "    for k in range(K):\n",
        "        print(f\"Time {k}: SoC = {solution[C[k]]:.2f}, Reverse Power = {solution[phi_plus[k]]:.2f}, Fuel Cell = {solution[phi_minus[k]]:.2f}\")\n",
        "else:\n",
        "    print(\"No solution found.\")\n"
      ],
      "metadata": {
        "colab": {
          "base_uri": "https://localhost:8080/"
        },
        "id": "WNfSonrxUnbQ",
        "outputId": "962cf290-cb08-498c-92df-abfdbbab6f58"
      },
      "execution_count": null,
      "outputs": [
        {
          "output_type": "stream",
          "name": "stdout",
          "text": [
            "Objective Value: 25861.549325673535\n",
            "PV Panel Area (m²): 2.8627450980392157\n",
            "Battery Capacity (kWh): 6.306227090642693\n",
            "Time 0: SoC = 1.26, Reverse Power = 0.00, Fuel Cell = 6.26\n",
            "Time 1: SoC = 1.26, Reverse Power = 0.00, Fuel Cell = 6.56\n",
            "Time 2: SoC = 1.26, Reverse Power = 0.00, Fuel Cell = 4.06\n",
            "Time 3: SoC = 1.26, Reverse Power = 0.00, Fuel Cell = 3.56\n",
            "Time 4: SoC = 1.26, Reverse Power = 0.00, Fuel Cell = 4.06\n",
            "Time 5: SoC = 1.26, Reverse Power = 0.00, Fuel Cell = 4.56\n",
            "Time 6: SoC = 1.26, Reverse Power = 0.00, Fuel Cell = 5.06\n",
            "Time 7: SoC = 1.26, Reverse Power = 0.00, Fuel Cell = 5.56\n",
            "Time 8: SoC = 1.26, Reverse Power = 0.00, Fuel Cell = 6.06\n",
            "Time 9: SoC = 1.26, Reverse Power = 0.00, Fuel Cell = 5.06\n",
            "Time 10: SoC = 4.41, Reverse Power = 1.37, Fuel Cell = 0.00\n",
            "Time 11: SoC = 6.31, Reverse Power = 4.41, Fuel Cell = 0.00\n",
            "Time 12: SoC = 6.31, Reverse Power = 8.14, Fuel Cell = 0.00\n",
            "Time 13: SoC = 6.31, Reverse Power = 4.77, Fuel Cell = 0.00\n",
            "Time 14: SoC = 6.31, Reverse Power = 2.84, Fuel Cell = 0.00\n",
            "Time 15: SoC = 6.31, Reverse Power = 0.91, Fuel Cell = 0.00\n",
            "Time 16: SoC = 5.29, Reverse Power = 0.00, Fuel Cell = 0.00\n",
            "Time 17: SoC = 3.38, Reverse Power = 0.00, Fuel Cell = 0.00\n",
            "Time 18: SoC = 1.65, Reverse Power = 0.00, Fuel Cell = 0.00\n",
            "Time 19: SoC = 1.93, Reverse Power = 0.00, Fuel Cell = 0.00\n",
            "Time 20: SoC = 1.26, Reverse Power = 0.00, Fuel Cell = 0.00\n",
            "Time 21: SoC = 2.56, Reverse Power = 0.00, Fuel Cell = 0.00\n",
            "Time 22: SoC = 5.71, Reverse Power = 1.44, Fuel Cell = 0.00\n",
            "Time 23: SoC = 6.31, Reverse Power = 5.71, Fuel Cell = 0.00\n",
            "Time 24: SoC = 6.31, Reverse Power = 7.64, Fuel Cell = 0.00\n",
            "Time 25: SoC = 6.31, Reverse Power = 10.00, Fuel Cell = 0.00\n",
            "Time 26: SoC = 6.31, Reverse Power = 8.86, Fuel Cell = 0.00\n",
            "Time 27: SoC = 6.31, Reverse Power = 5.43, Fuel Cell = 0.00\n",
            "Time 28: SoC = 6.31, Reverse Power = 7.00, Fuel Cell = 0.00\n",
            "Time 29: SoC = 6.31, Reverse Power = 4.57, Fuel Cell = 0.00\n",
            "Time 30: SoC = 6.31, Reverse Power = 3.64, Fuel Cell = 0.00\n",
            "Time 31: SoC = 6.31, Reverse Power = 1.20, Fuel Cell = 0.00\n",
            "Time 32: SoC = 4.08, Reverse Power = 0.00, Fuel Cell = 0.00\n",
            "Time 33: SoC = 3.03, Reverse Power = 0.00, Fuel Cell = 0.00\n",
            "Time 34: SoC = 1.26, Reverse Power = 0.00, Fuel Cell = 2.16\n",
            "Time 35: SoC = 1.26, Reverse Power = 0.00, Fuel Cell = 3.77\n",
            "Time 36: SoC = 1.26, Reverse Power = 0.00, Fuel Cell = 4.70\n",
            "Time 37: SoC = 1.26, Reverse Power = 0.00, Fuel Cell = 3.63\n",
            "Time 38: SoC = 1.26, Reverse Power = 0.00, Fuel Cell = 4.56\n",
            "Time 39: SoC = 1.26, Reverse Power = 0.00, Fuel Cell = 4.06\n",
            "Time 40: SoC = 1.26, Reverse Power = 0.00, Fuel Cell = 3.56\n",
            "Time 41: SoC = 1.26, Reverse Power = 0.00, Fuel Cell = 1.06\n",
            "Time 42: SoC = 1.26, Reverse Power = 0.00, Fuel Cell = 0.56\n",
            "Time 43: SoC = 1.26, Reverse Power = 0.00, Fuel Cell = 1.06\n",
            "Time 44: SoC = 1.26, Reverse Power = 0.00, Fuel Cell = 1.56\n",
            "Time 45: SoC = 1.26, Reverse Power = 0.00, Fuel Cell = 0.56\n",
            "Time 46: SoC = 1.26, Reverse Power = 0.00, Fuel Cell = 1.06\n",
            "Time 47: SoC = 1.26, Reverse Power = 0.00, Fuel Cell = 2.06\n"
          ]
        }
      ]
    },
    {
      "cell_type": "code",
      "source": [],
      "metadata": {
        "id": "231pSh5OV8bT"
      },
      "execution_count": null,
      "outputs": []
    }
  ]
}